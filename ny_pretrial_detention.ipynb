{
 "cells": [
  {
   "cell_type": "code",
   "execution_count": 117,
   "metadata": {
    "executionInfo": {
     "elapsed": 5,
     "status": "ok",
     "timestamp": 1638149306335,
     "user": {
      "displayName": "Hayden Betts",
      "photoUrl": "https://lh3.googleusercontent.com/a-/AOh14GgCxhTGiYN5lQT-qYj4BB-K3f1UQobG9gG1skZ6Pd4=s64",
      "userId": "08996134067535721412"
     },
     "user_tz": 300
    },
    "id": "J_5X9QOkWGL-"
   },
   "outputs": [],
   "source": [
    "import pandas as pd\n",
    "import dateutil.parser\n",
    "from datetime import date\n",
    "import re\n"
   ]
  },
  {
   "cell_type": "code",
   "execution_count": 139,
   "metadata": {
    "executionInfo": {
     "elapsed": 2349,
     "status": "ok",
     "timestamp": 1638149432928,
     "user": {
      "displayName": "Hayden Betts",
      "photoUrl": "https://lh3.googleusercontent.com/a-/AOh14GgCxhTGiYN5lQT-qYj4BB-K3f1UQobG9gG1skZ6Pd4=s64",
      "userId": "08996134067535721412"
     },
     "user_tz": 300
    },
    "id": "8Qcy9DBYWVh9"
   },
   "outputs": [],
   "source": [
    "detention_stats = pd.read_csv(\"https://raw.githubusercontent.com/haydenbetts/ny-pretrial-detention/main/Daily_Incarcerated_In_Custody_NYC_11_28_21.csv\")\n",
    "penal_code = pd.read_csv(\"https://raw.githubusercontent.com/haydenbetts/ny-pretrial-detention/main/ny-penal-code.csv\")\n",
    "penal_code_secondary = pd.read_csv(\"https://raw.githubusercontent.com/andyj1/bailproject/master/src/cleaned/newyork.csv\")\n"
   ]
  },
  {
   "cell_type": "code",
   "execution_count": 144,
   "metadata": {
    "colab": {
     "base_uri": "https://localhost:8080/",
     "height": 398
    },
    "executionInfo": {
     "elapsed": 24,
     "status": "error",
     "timestamp": 1638149432940,
     "user": {
      "displayName": "Hayden Betts",
      "photoUrl": "https://lh3.googleusercontent.com/a-/AOh14GgCxhTGiYN5lQT-qYj4BB-K3f1UQobG9gG1skZ6Pd4=s64",
      "userId": "08996134067535721412"
     },
     "user_tz": 300
    },
    "id": "aV0qKErGXDJP",
    "outputId": "78e6d81d-b669-4e7e-85c5-f9efb331e642"
   },
   "outputs": [
    {
     "name": "stdout",
     "output_type": "stream",
     "text": [
      "<re.Match object; span=(33, 51), match='1 MILLION B Felony'>\n",
      "<re.Match object; span=(33, 48), match='18 YRS A Felony'>\n",
      "<re.Match object; span=(33, 51), match='1 MILLION B Felony'>\n",
      "<re.Match object; span=(33, 48), match='18 YRS A Felony'>\n"
     ]
    },
    {
     "data": {
      "text/html": [
       "<div>\n",
       "<style scoped>\n",
       "    .dataframe tbody tr th:only-of-type {\n",
       "        vertical-align: middle;\n",
       "    }\n",
       "\n",
       "    .dataframe tbody tr th {\n",
       "        vertical-align: top;\n",
       "    }\n",
       "\n",
       "    .dataframe thead th {\n",
       "        text-align: right;\n",
       "    }\n",
       "</style>\n",
       "<table border=\"1\" class=\"dataframe\">\n",
       "  <thead>\n",
       "    <tr style=\"text-align: right;\">\n",
       "      <th></th>\n",
       "      <th>bond_info</th>\n",
       "      <th>charges</th>\n",
       "      <th>race</th>\n",
       "      <th>gender</th>\n",
       "      <th>first_statute</th>\n",
       "      <th>TOP_CHARGE</th>\n",
       "      <th>Penal Law OFFENSE</th>\n",
       "      <th>CLASS</th>\n",
       "    </tr>\n",
       "  </thead>\n",
       "  <tbody>\n",
       "    <tr>\n",
       "      <th>0</th>\n",
       "      <td>50000.0</td>\n",
       "      <td>110-120.10 FC (Attempted ASSAULT-1ST C Felony)</td>\n",
       "      <td>Other</td>\n",
       "      <td>Male</td>\n",
       "      <td>110120</td>\n",
       "      <td>110-120.10</td>\n",
       "      <td></td>\n",
       "      <td></td>\n",
       "    </tr>\n",
       "    <tr>\n",
       "      <th>1</th>\n",
       "      <td>50000.0</td>\n",
       "      <td>110-125.25 FB (Attempted MURDER B Felony)</td>\n",
       "      <td>Black</td>\n",
       "      <td>Male</td>\n",
       "      <td>110125</td>\n",
       "      <td>110-125.25</td>\n",
       "      <td></td>\n",
       "      <td></td>\n",
       "    </tr>\n",
       "    <tr>\n",
       "      <th>3</th>\n",
       "      <td>15000.0</td>\n",
       "      <td>120.05 FD (ASSAULT -2ND D Felony)</td>\n",
       "      <td>Black</td>\n",
       "      <td>Male</td>\n",
       "      <td>12005</td>\n",
       "      <td>120.05</td>\n",
       "      <td></td>\n",
       "      <td></td>\n",
       "    </tr>\n",
       "    <tr>\n",
       "      <th>4</th>\n",
       "      <td>500000.0</td>\n",
       "      <td>230.34 FB ( B Felony)</td>\n",
       "      <td>Black</td>\n",
       "      <td>Male</td>\n",
       "      <td>23034</td>\n",
       "      <td>230.34</td>\n",
       "      <td></td>\n",
       "      <td></td>\n",
       "    </tr>\n",
       "    <tr>\n",
       "      <th>5</th>\n",
       "      <td>200000.0</td>\n",
       "      <td>140.30 FB (BURGLARY-1ST B Felony) |160.10 FC (...</td>\n",
       "      <td>Black</td>\n",
       "      <td>Male</td>\n",
       "      <td>14030</td>\n",
       "      <td>140.30</td>\n",
       "      <td></td>\n",
       "      <td></td>\n",
       "    </tr>\n",
       "  </tbody>\n",
       "</table>\n",
       "</div>"
      ],
      "text/plain": [
       "   bond_info                                            charges   race gender  \\\n",
       "0    50000.0     110-120.10 FC (Attempted ASSAULT-1ST C Felony)  Other   Male   \n",
       "1    50000.0          110-125.25 FB (Attempted MURDER B Felony)  Black   Male   \n",
       "3    15000.0                  120.05 FD (ASSAULT -2ND D Felony)  Black   Male   \n",
       "4   500000.0                              230.34 FB ( B Felony)  Black   Male   \n",
       "5   200000.0  140.30 FB (BURGLARY-1ST B Felony) |160.10 FC (...  Black   Male   \n",
       "\n",
       "   first_statute  TOP_CHARGE Penal Law OFFENSE CLASS  \n",
       "0         110120  110-120.10                          \n",
       "1         110125  110-125.25                          \n",
       "3          12005      120.05                          \n",
       "4          23034      230.34                          \n",
       "5          14030      140.30                          "
      ]
     },
     "execution_count": 144,
     "metadata": {},
     "output_type": "execute_result"
    }
   ],
   "source": [
    "# Merge Penal Code Data Source #1\n",
    "penal_code[\"TOP_CHARGE\"] = penal_code[\"CODE\"]\n",
    "merged = pd.merge(detention_stats, penal_code, how=\"left\", on=[\"TOP_CHARGE\"])\n",
    "merged[\"DAYS_SINCE_ADMISSION\"] = merged[\"ADMITTED_DT\"].map(lambda d: f'{date.today() - dateutil.parser.parse(d).date()}'[:-14])\n",
    "merged.sort_values(by=['DAYS_SINCE_ADMISSION'], ascending=False)\n",
    "\n",
    "# Clean Penal Code Data Source #2\n",
    "# Penal Law OFFENSE,CLASS\n",
    "\n",
    "def search(string, capture_index):\n",
    "    regex = \"[0-9]+\\s+([\\w|\\s|-]+) ([A-F]{1} Felony)\"\n",
    "    match = re.search(regex, string)\n",
    "    if match is None:\n",
    "        return \"\"\n",
    "    else:\n",
    "        print(match)\n",
    "        return match[capture_index]\n",
    "\n",
    "penal_code_secondary[\"TOP_CHARGE\"] = penal_code_secondary[\"charges\"].map(lambda c: c.split(\" \")[0]) \n",
    "penal_code_secondary.drop_duplicates(subset=['TOP_CHARGE'], inplace=True)\n",
    "penal_code_secondary[\"Penal Law OFFENSE\"] = penal_code_secondary[\"charges\"].map(lambda c: search(c, 1))\n",
    "penal_code_secondary['CLASS'] = penal_code_secondary[\"charges\"].map(lambda c: search(c, 2))\n",
    "# ([A-F]{1} Felony)\n",
    "\n",
    "penal_code_secondary.head()\n",
    "\n",
    "# Merge Data from Penal Code Source #2\n",
    "# def new_charge_if_exists(n):\n",
    "#     if not pd.isna(n[\"Penal Law OFFENSE\"]):\n",
    "#         return n\n",
    "#     else:\n",
    "#         r = penal_code_secondary.loc[penal_code_secondary['TOP_CHARGE'] == n[\"TOP_CHARGE\"]]\n",
    "#         if not r.empty:\n",
    "#             n[\"Penal Law OFFENSE\"] = r[\"Penal Law OFFENSE\"].to_string()\n",
    "#             n[\"CLASS\"] = r[\"CLASS\"].to_string()\n",
    "#         return n\n",
    "    \n",
    "# merged = merged.apply(lambda c: new_charge_if_exists(c), axis=1)\n",
    "\n",
    "# merged.to_csv('results.csv', index=False, header=True)\n"
   ]
  }
 ],
 "metadata": {
  "colab": {
   "authorship_tag": "ABX9TyPkMsFwL6/cYyT7w8f03p/h",
   "name": "ny_pretrial_detention.ipynb",
   "provenance": []
  },
  "kernelspec": {
   "display_name": "Python 3",
   "language": "python",
   "name": "python3"
  },
  "language_info": {
   "codemirror_mode": {
    "name": "ipython",
    "version": 3
   },
   "file_extension": ".py",
   "mimetype": "text/x-python",
   "name": "python",
   "nbconvert_exporter": "python",
   "pygments_lexer": "ipython3",
   "version": "3.9.7"
  }
 },
 "nbformat": 4,
 "nbformat_minor": 1
}
